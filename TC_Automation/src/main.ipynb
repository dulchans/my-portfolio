{
 "cells": [
  {
   "cell_type": "code",
   "execution_count": 2,
   "id": "2a0516b5-87e6-4e5c-a4cc-b086ea33db2b",
   "metadata": {},
   "outputs": [],
   "source": [
    "import os\n",
    "from app.settings import NEW_FILE, NEW_FILE_PATH\n",
    "import tkinter as tk\n",
    "from tkinter import messagebox\n",
    "from app.automation import run_automation\n",
    "from app.generate_xl import run_generate_xl\n",
    "\n",
    "def main():\n",
    "    tk.Tk().withdraw()\n",
    "    askokcancel = messagebox.askokcancel('テスト開始', 'テストを実行しますか？')\n",
    "\n",
    "    if askokcancel:\n",
    "        \n",
    "        # 同じ名前のファイルが存在する場合は処理を中止\n",
    "        if os.path.exists(NEW_FILE_PATH):\n",
    "            messagebox.showwarning('テスト中止', f'同じ名前のファイルが存在します。\\nファイル名: {NEW_FILE}')\n",
    "            \n",
    "        # 同じ名前のファイルが存在しない場合は処理を続行\n",
    "        else:\n",
    "            # 自動処理を実行して、判定結果を取得\n",
    "            judge_result = run_automation()\n",
    "            # Excelファイルを生成して、テストカバレッジを取得\n",
    "            test_coverage = run_generate_xl(judge_result)\n",
    "            # 通知後にExcelファイルを開く\n",
    "            messagebox.showinfo('自動テスト終了', f'テストが終了しました。\\n合格率は {test_coverage} です。')\n",
    "            os.startfile(NEW_FILE_PATH)\n",
    "            \n",
    "    else:\n",
    "        pass\n",
    "\n",
    "if __name__ == '__main__':\n",
    "    main()\n",
    "    "
   ]
  },
  {
   "cell_type": "code",
   "execution_count": null,
   "id": "3cd5bb0c-44ee-4cc9-972b-994f6d4acfda",
   "metadata": {},
   "outputs": [],
   "source": []
  }
 ],
 "metadata": {
  "kernelspec": {
   "display_name": "Python 3 (ipykernel)",
   "language": "python",
   "name": "python3"
  },
  "language_info": {
   "codemirror_mode": {
    "name": "ipython",
    "version": 3
   },
   "file_extension": ".py",
   "mimetype": "text/x-python",
   "name": "python",
   "nbconvert_exporter": "python",
   "pygments_lexer": "ipython3",
   "version": "3.13.2"
  }
 },
 "nbformat": 4,
 "nbformat_minor": 5
}
